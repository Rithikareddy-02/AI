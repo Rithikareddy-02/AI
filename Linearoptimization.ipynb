{
  "nbformat": 4,
  "nbformat_minor": 0,
  "metadata": {
    "colab": {
      "name": "Linearoptimization.ipynb",
      "provenance": [],
      "authorship_tag": "ABX9TyNbeHuYIZW74of9BVODySnF",
      "include_colab_link": true
    },
    "kernelspec": {
      "name": "python3",
      "display_name": "Python 3"
    },
    "language_info": {
      "name": "python"
    }
  },
  "cells": [
    {
      "cell_type": "markdown",
      "metadata": {
        "id": "view-in-github",
        "colab_type": "text"
      },
      "source": [
        "<a href=\"https://colab.research.google.com/github/Rithikareddy-02/AI/blob/main/Linearoptimization.ipynb\" target=\"_parent\"><img src=\"https://colab.research.google.com/assets/colab-badge.svg\" alt=\"Open In Colab\"/></a>"
      ]
    },
    {
      "cell_type": "code",
      "metadata": {
        "id": "vEJ1kHnMHQ6k",
        "outputId": "e1d2bda5-dac4-45b5-b27e-1a117b1dfe8c",
        "colab": {
          "base_uri": "https://localhost:8080/"
        }
      },
      "source": [
        "from scipy.optimize import linprog\n",
        "obj = [-50, -120] # objective function matrix\n",
        "A_ieq = [[7000, 2000], [10, 30], [1, 1]] # inequality constraints coeff matrix\n",
        "b_ieq = [700000, 1200, 110] # Inequality constraints constant matrix\n",
        "boundary = [(0,float('inf')),(0,float('inf'))] # limits for a and b\n",
        "\n",
        "opt = linprog(c = obj, A_ub = A_ieq, b_ub = b_ieq, A_eq = None, b_eq = None,bounds = boundary, method = \"Simplex\")\n",
        "opt.x\n",
        "print('Number of wheat plants are ', round(opt.x[0]))\n",
        "print('Number of barley plants are', round(opt.x[1]))\n",
        "print('optimal solution for max objective function=',round((opt.x[0]*(50) +(opt.x[1]*(120)))))"
      ],
      "execution_count": 1,
      "outputs": [
        {
          "output_type": "stream",
          "text": [
            "Number of wheat plants are  98\n",
            "Number of barley plants are 7\n",
            "optimal solution for max objective function= 5779\n"
          ],
          "name": "stdout"
        }
      ]
    }
  ]
}