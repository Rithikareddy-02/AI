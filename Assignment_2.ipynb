{
  "nbformat": 4,
  "nbformat_minor": 0,
  "metadata": {
    "colab": {
      "name": "Assignment_2.ipynb",
      "provenance": [],
      "collapsed_sections": [],
      "authorship_tag": "ABX9TyMaxBe8Y6mjokoVR5dXm5Bd",
      "include_colab_link": true
    },
    "kernelspec": {
      "name": "python3",
      "display_name": "Python 3"
    },
    "language_info": {
      "name": "python"
    }
  },
  "cells": [
    {
      "cell_type": "markdown",
      "metadata": {
        "id": "view-in-github",
        "colab_type": "text"
      },
      "source": [
        "<a href=\"https://colab.research.google.com/github/Rithikareddy-02/AI/blob/main/Assignment_2.ipynb\" target=\"_parent\"><img src=\"https://colab.research.google.com/assets/colab-badge.svg\" alt=\"Open In Colab\"/></a>"
      ]
    },
    {
      "cell_type": "code",
      "metadata": {
        "colab": {
          "base_uri": "https://localhost:8080/"
        },
        "id": "3kjwO7r4Z6FT",
        "outputId": "11263c0a-749c-4a10-c64a-1fc7bd8733d8"
      },
      "source": [
        "import numpy as np\n",
        "x = np.random.uniform(-20,-20)\n",
        "eta = 0.001\n",
        "iter_max = 200\n",
        "iter = 1\n",
        "while iter <= iter_max:\n",
        "  grad_x = 4*(x**3) + 6*x\n",
        "  del_x = -eta * grad_x\n",
        "  x = x + del_x\n",
        "  iter = iter + 1\n",
        "obj =  (x**4) + 3*(x**2) + 10\n",
        "print('Global minimum point = ',round(x))\n",
        "print('Objective function value = ',round(obj))"
      ],
      "execution_count": 2,
      "outputs": [
        {
          "output_type": "stream",
          "name": "stdout",
          "text": [
            "Global minimum point =  0\n",
            "Objective function value =  10\n"
          ]
        }
      ]
    }
  ]
}