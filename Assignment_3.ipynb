{
  "nbformat": 4,
  "nbformat_minor": 0,
  "metadata": {
    "colab": {
      "name": "Assignment_3.ipynb",
      "provenance": [],
      "collapsed_sections": [],
      "authorship_tag": "ABX9TyMA/l/7l8TCstCn7u81HKoE",
      "include_colab_link": true
    },
    "kernelspec": {
      "name": "python3",
      "display_name": "Python 3"
    },
    "language_info": {
      "name": "python"
    }
  },
  "cells": [
    {
      "cell_type": "markdown",
      "metadata": {
        "id": "view-in-github",
        "colab_type": "text"
      },
      "source": [
        "<a href=\"https://colab.research.google.com/github/Rithikareddy-02/AI/blob/main/Assignment_3.ipynb\" target=\"_parent\"><img src=\"https://colab.research.google.com/assets/colab-badge.svg\" alt=\"Open In Colab\"/></a>"
      ]
    },
    {
      "cell_type": "code",
      "metadata": {
        "id": "z-YQQwNrZtvs",
        "colab": {
          "base_uri": "https://localhost:8080/"
        },
        "outputId": "0ba05d3e-6a0c-4c6c-d270-c7fe86901333"
      },
      "source": [
        "import numpy as np\n",
        "import math\n",
        "x=np.random.uniform(-20,20)\n",
        "y=np.random.uniform(-20,20)\n",
        "eta = 0.01\n",
        "iter_max = 200\n",
        "iter = 0\n",
        "while iter <= iter_max:\n",
        "  grad_x = 6*x\n",
        "  grad_y = -5*(math.exp(-y))\n",
        "  del_x = -eta * grad_x\n",
        "  del_y = -eta * grad_y\n",
        "  x = x + del_x\n",
        "  y = y + del_y\n",
        "  iter = iter + 1\n",
        "obj =  3*(x**2) + 5*(math.exp(-y)) + 10\n",
        "print('Objective function value = ', round(obj))\n",
        "print('Global minimum point of x = ', round(x))\n",
        "print('Global minimum point of y = ', round(y))"
      ],
      "execution_count": 12,
      "outputs": [
        {
          "output_type": "stream",
          "name": "stdout",
          "text": [
            "Objective function value =  10\n",
            "Global minimum point of x =  0\n",
            "Global minimum point of y =  2\n"
          ]
        }
      ]
    }
  ]
}