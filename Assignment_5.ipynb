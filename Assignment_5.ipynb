{
  "nbformat": 4,
  "nbformat_minor": 0,
  "metadata": {
    "colab": {
      "name": "Assignment_5.ipynb",
      "provenance": [],
      "collapsed_sections": [],
      "authorship_tag": "ABX9TyPSJjqHMqJdjfsCMmawZWl8",
      "include_colab_link": true
    },
    "kernelspec": {
      "name": "python3",
      "display_name": "Python 3"
    },
    "language_info": {
      "name": "python"
    }
  },
  "cells": [
    {
      "cell_type": "markdown",
      "metadata": {
        "id": "view-in-github",
        "colab_type": "text"
      },
      "source": [
        "<a href=\"https://colab.research.google.com/github/Rithikareddy-02/AI/blob/main/Assignment_5.ipynb\" target=\"_parent\"><img src=\"https://colab.research.google.com/assets/colab-badge.svg\" alt=\"Open In Colab\"/></a>"
      ]
    },
    {
      "cell_type": "markdown",
      "metadata": {
        "id": "daPe1DMvKzeo"
      },
      "source": [
        "Mount Drive"
      ]
    },
    {
      "cell_type": "code",
      "metadata": {
        "colab": {
          "base_uri": "https://localhost:8080/"
        },
        "id": "HTOvtaxoK1_k",
        "outputId": "1b93e83e-05e8-4dc0-f189-8a14ac6ca00d"
      },
      "source": [
        "from google.colab import drive\n",
        "drive.mount('/content/drive')"
      ],
      "execution_count": null,
      "outputs": [
        {
          "output_type": "stream",
          "name": "stdout",
          "text": [
            "Drive already mounted at /content/drive; to attempt to forcibly remount, call drive.mount(\"/content/drive\", force_remount=True).\n"
          ]
        }
      ]
    },
    {
      "cell_type": "markdown",
      "metadata": {
        "id": "DcmUa9YpLBPA"
      },
      "source": [
        "Import Libraries"
      ]
    },
    {
      "cell_type": "code",
      "metadata": {
        "id": "fOpD13gRLDoi"
      },
      "source": [
        "import numpy as np\n",
        "import math as mt\n",
        "import random\n",
        "import pandas as pd"
      ],
      "execution_count": null,
      "outputs": []
    },
    {
      "cell_type": "markdown",
      "metadata": {
        "id": "dhA6xKIULFbn"
      },
      "source": [
        "Import Data"
      ]
    },
    {
      "cell_type": "code",
      "metadata": {
        "colab": {
          "base_uri": "https://localhost:8080/",
          "height": 206
        },
        "id": "Ku5kYS4rLHbC",
        "outputId": "f4008262-25fe-4fa5-cbe7-19aefe8fb897"
      },
      "source": [
        "data = pd.read_csv('/content/drive/MyDrive/DATA_AI/Assignment_5_data.csv')\n",
        "data.head()"
      ],
      "execution_count": null,
      "outputs": [
        {
          "output_type": "execute_result",
          "data": {
            "text/html": [
              "<div>\n",
              "<style scoped>\n",
              "    .dataframe tbody tr th:only-of-type {\n",
              "        vertical-align: middle;\n",
              "    }\n",
              "\n",
              "    .dataframe tbody tr th {\n",
              "        vertical-align: top;\n",
              "    }\n",
              "\n",
              "    .dataframe thead th {\n",
              "        text-align: right;\n",
              "    }\n",
              "</style>\n",
              "<table border=\"1\" class=\"dataframe\">\n",
              "  <thead>\n",
              "    <tr style=\"text-align: right;\">\n",
              "      <th></th>\n",
              "      <th>L1</th>\n",
              "      <th>L2</th>\n",
              "      <th>L3</th>\n",
              "      <th>L</th>\n",
              "    </tr>\n",
              "  </thead>\n",
              "  <tbody>\n",
              "    <tr>\n",
              "      <th>0</th>\n",
              "      <td>5551.82208</td>\n",
              "      <td>4983.17184</td>\n",
              "      <td>4888.39680</td>\n",
              "      <td>5072.95872</td>\n",
              "    </tr>\n",
              "    <tr>\n",
              "      <th>1</th>\n",
              "      <td>4983.17184</td>\n",
              "      <td>4888.39680</td>\n",
              "      <td>5072.95872</td>\n",
              "      <td>5196.25980</td>\n",
              "    </tr>\n",
              "    <tr>\n",
              "      <th>2</th>\n",
              "      <td>4888.39680</td>\n",
              "      <td>5072.95872</td>\n",
              "      <td>5196.25980</td>\n",
              "      <td>5641.29720</td>\n",
              "    </tr>\n",
              "    <tr>\n",
              "      <th>3</th>\n",
              "      <td>5072.95872</td>\n",
              "      <td>5196.25980</td>\n",
              "      <td>5641.29720</td>\n",
              "      <td>7153.17732</td>\n",
              "    </tr>\n",
              "    <tr>\n",
              "      <th>4</th>\n",
              "      <td>5196.25980</td>\n",
              "      <td>5641.29720</td>\n",
              "      <td>7153.17732</td>\n",
              "      <td>7849.80504</td>\n",
              "    </tr>\n",
              "  </tbody>\n",
              "</table>\n",
              "</div>"
            ],
            "text/plain": [
              "           L1          L2          L3           L\n",
              "0  5551.82208  4983.17184  4888.39680  5072.95872\n",
              "1  4983.17184  4888.39680  5072.95872  5196.25980\n",
              "2  4888.39680  5072.95872  5196.25980  5641.29720\n",
              "3  5072.95872  5196.25980  5641.29720  7153.17732\n",
              "4  5196.25980  5641.29720  7153.17732  7849.80504"
            ]
          },
          "metadata": {},
          "execution_count": 12
        }
      ]
    },
    {
      "cell_type": "markdown",
      "metadata": {
        "id": "ij9B6ZoQaIj4"
      },
      "source": [
        "Outliers detection"
      ]
    },
    {
      "cell_type": "code",
      "metadata": {
        "id": "-5pQCZ3HaKfE"
      },
      "source": [
        "outliers = []\n",
        "def detect_outliers_zscore(data):\n",
        "    thres = 3\n",
        "    mean = np.mean(data)\n",
        "    std = np.std(data)\n",
        "    for i in data:\n",
        "        z_score = (i-mean)/std\n",
        "        if (np.abs(z_score) > thres):\n",
        "            outliers.append(i)\n",
        "    return outliers# Driver code"
      ],
      "execution_count": null,
      "outputs": []
    },
    {
      "cell_type": "code",
      "metadata": {
        "colab": {
          "base_uri": "https://localhost:8080/"
        },
        "id": "YHzZkN9SaN8Z",
        "outputId": "0d0055b6-f786-4454-c475-883145aa620f"
      },
      "source": [
        "sample_outliers_L1 = detect_outliers_zscore(data['L1'])\n",
        "sample_outliers_L2 = detect_outliers_zscore(data['L2'])\n",
        "sample_outliers_L3 = detect_outliers_zscore(data['L3'])\n",
        "sample_outliers_L = detect_outliers_zscore(data['L'])\n",
        "print(\"Outliers in L1 column from Z-scores method: \", sample_outliers_L1)\n",
        "print(\"Outliers in L2 column from Z-scores method: \", sample_outliers_L2)\n",
        "print(\"Outliers in L3 column from Z-scores method: \", sample_outliers_L3)\n",
        "print(\"Outliers in Y column from Z-scores method: \", sample_outliers_L)"
      ],
      "execution_count": null,
      "outputs": [
        {
          "output_type": "stream",
          "name": "stdout",
          "text": [
            "Outliers in L1 column from Z-scores method:  []\n",
            "Outliers in L2 column from Z-scores method:  []\n",
            "Outliers in L3 column from Z-scores method:  []\n",
            "Outliers in Y column from Z-scores method:  []\n"
          ]
        }
      ]
    },
    {
      "cell_type": "markdown",
      "metadata": {
        "id": "XGX9HLeNaoiC"
      },
      "source": [
        "Missing Values Treatment"
      ]
    },
    {
      "cell_type": "code",
      "metadata": {
        "colab": {
          "base_uri": "https://localhost:8080/"
        },
        "id": "RjtV2XiNav10",
        "outputId": "5ce1cbfa-4f8e-4046-bdf0-e7fc084910d7"
      },
      "source": [
        "print(data.isnull().sum())"
      ],
      "execution_count": null,
      "outputs": [
        {
          "output_type": "stream",
          "name": "stdout",
          "text": [
            "L1    0\n",
            "L2    1\n",
            "L3    2\n",
            "L     3\n",
            "dtype: int64\n"
          ]
        }
      ]
    },
    {
      "cell_type": "code",
      "metadata": {
        "id": "Zpn7X2U0eC79"
      },
      "source": [
        "m1 = data['L1'].mean()\n",
        "m2 = data['L2'].mean()\n",
        "m3 = data['L3'].mean()\n",
        "m4 = data['L'].mean()\n",
        "data['L1'].fillna(value=m1, inplace=True)\n",
        "data['L2'].fillna(value=m2, inplace=True)\n",
        "data['L3'].fillna(value=m3, inplace=True)\n",
        "data['L'].fillna(value=m4, inplace=True)"
      ],
      "execution_count": null,
      "outputs": []
    },
    {
      "cell_type": "markdown",
      "metadata": {
        "id": "nYGSGm62e9Pb"
      },
      "source": [
        "Min and Max values"
      ]
    },
    {
      "cell_type": "code",
      "metadata": {
        "id": "OHwOLDkSehzp"
      },
      "source": [
        "l1_min = data['L1'].min()\n",
        "l1_max = data['L1'].max()\n",
        "l2_min = data['L2'].min()\n",
        "l2_max = data['L2'].max()\n",
        "l3_min = data['L3'].min()\n",
        "l3_max = data['L3'].max()\n",
        "l_min = data['L'].min() \n",
        "l_max = data['L'].max()"
      ],
      "execution_count": null,
      "outputs": []
    },
    {
      "cell_type": "markdown",
      "metadata": {
        "id": "XRpdEyg1pTv_"
      },
      "source": [
        "Normalisation"
      ]
    },
    {
      "cell_type": "code",
      "metadata": {
        "id": "INBZCyQupiQ6"
      },
      "source": [
        "from sklearn.preprocessing import MinMaxScaler\n",
        "l1 = np.array(data['L1']).reshape(-1,1)\n",
        "scaler = MinMaxScaler()\n",
        "scaler.fit(l1)\n",
        "l1_scaled = scaler.transform(l1)\n",
        "data['L1'] = l1_scaled.reshape(1,-1)[0]"
      ],
      "execution_count": null,
      "outputs": []
    },
    {
      "cell_type": "code",
      "metadata": {
        "id": "Mfa-83Q3pvcZ"
      },
      "source": [
        "from sklearn.preprocessing import MinMaxScaler\n",
        "l2 = np.array(data['L2']).reshape(-1,1)\n",
        "scaler = MinMaxScaler()\n",
        "scaler.fit(l2)\n",
        "l2_scaled = scaler.transform(l2)\n",
        "data['L2'] = l2_scaled.reshape(1,-1)[0]"
      ],
      "execution_count": null,
      "outputs": []
    },
    {
      "cell_type": "code",
      "metadata": {
        "id": "dAX-LW_mp1SJ"
      },
      "source": [
        "from sklearn.preprocessing import MinMaxScaler\n",
        "l3 = np.array(data['L3']).reshape(-1,1)\n",
        "scaler = MinMaxScaler()\n",
        "scaler.fit(l3)\n",
        "l3_scaled = scaler.transform(l3)\n",
        "data['L3'] = l3_scaled.reshape(1,-1)[0]"
      ],
      "execution_count": null,
      "outputs": []
    },
    {
      "cell_type": "code",
      "metadata": {
        "id": "IbWfUU3Gp6_k"
      },
      "source": [
        "from sklearn.preprocessing import MinMaxScaler\n",
        "l = np.array(data['L']).reshape(-1,1)\n",
        "scaler = MinMaxScaler()\n",
        "scaler.fit(l)\n",
        "l_scaled = scaler.transform(l)\n",
        "data['L'] = l_scaled.reshape(1,-1)[0]"
      ],
      "execution_count": null,
      "outputs": []
    },
    {
      "cell_type": "markdown",
      "metadata": {
        "id": "xDM0K5d6fAax"
      },
      "source": [
        "Data Split"
      ]
    },
    {
      "cell_type": "code",
      "metadata": {
        "id": "KzdM8isrfBi9",
        "colab": {
          "base_uri": "https://localhost:8080/"
        },
        "outputId": "05c5d27b-5239-459e-9cc5-268981df2161"
      },
      "source": [
        "from sklearn.model_selection import train_test_split\n",
        "dataframe = data.values\n",
        "X, y = dataframe[:, :-1], dataframe[:, -1]\n",
        "x_train, x_test, y_train, y_test = train_test_split(X, y, test_size = 0.20, random_state = 10)\n",
        "x_train"
      ],
      "execution_count": null,
      "outputs": [
        {
          "output_type": "execute_result",
          "data": {
            "text/plain": [
              "array([[0.45539357, 0.40426807, 0.2812188 ],\n",
              "       [0.73977918, 0.77492796, 0.74297452],\n",
              "       [0.53447833, 0.48064249, 0.41097258],\n",
              "       ...,\n",
              "       [0.61011098, 0.44563636, 0.4770192 ],\n",
              "       [0.22641294, 0.17160709, 0.20062195],\n",
              "       [0.4363071 , 0.41339762, 0.37793501]])"
            ]
          },
          "metadata": {},
          "execution_count": 26
        }
      ]
    },
    {
      "cell_type": "markdown",
      "metadata": {
        "id": "noG0joGgpO8q"
      },
      "source": [
        "Initialisation"
      ]
    },
    {
      "cell_type": "code",
      "metadata": {
        "id": "Rhjd1J7dqB77"
      },
      "source": [
        "m1=random.uniform(-10,10)\n",
        "m2=random.uniform(-10,10)\n",
        "c=random.uniform(-10,10)\n",
        "eta=0.1\n",
        "max_iter=10000"
      ],
      "execution_count": null,
      "outputs": []
    },
    {
      "cell_type": "markdown",
      "metadata": {
        "id": "vHC-J8B_qaaL"
      },
      "source": [
        "Gradient Calculation"
      ]
    },
    {
      "cell_type": "code",
      "metadata": {
        "id": "b9kI5eVOqcfc"
      },
      "source": [
        "def gradient(m1,m2,c,x1,x2,y):\n",
        "  m1_deriv=-1*(y-m1*x1-m2*x2-c)*x1\n",
        "  m2_deriv=-1*(y-m1*x1-m2*x2-c)*x2\n",
        "  c_deriv=-1*(y-m1*x1-m2*x2-c)\n",
        "  return m1_deriv,m2_deriv,c_deriv"
      ],
      "execution_count": null,
      "outputs": []
    },
    {
      "cell_type": "markdown",
      "metadata": {
        "id": "nmchPixJqSuR"
      },
      "source": [
        "Training the Model"
      ]
    },
    {
      "cell_type": "code",
      "metadata": {
        "colab": {
          "base_uri": "https://localhost:8080/"
        },
        "id": "YYxv6UrMqVb9",
        "outputId": "bdaf03b4-0b2f-44cf-e0e0-d6483940a424"
      },
      "source": [
        "for iter in range(max_iter):\n",
        "  for sample in range(x_train.shape[0]):\n",
        "    del_m1,del_m2,del_c=gradient(m1,m2, c, x_train[sample,0],x_train[sample,1], y_train[sample])\n",
        "    m1=m1-eta*del_m1\n",
        "    m2=m2-eta*del_m2\n",
        "    c=c-eta*del_c\n",
        "print('model parameter m and c',m1,m2,c)"
      ],
      "execution_count": null,
      "outputs": [
        {
          "output_type": "stream",
          "name": "stdout",
          "text": [
            "model parameter m and c -0.3868855902476914 0.8848432824194119 0.268485587082652\n"
          ]
        }
      ]
    },
    {
      "cell_type": "markdown",
      "metadata": {
        "id": "aZW1sPDjrLZg"
      },
      "source": [
        "Model Prediction on Training data"
      ]
    },
    {
      "cell_type": "code",
      "metadata": {
        "id": "o3gaOpWBrOnw"
      },
      "source": [
        "y_pred_train = []\n",
        "for sample in range(x_train.shape[0]):\n",
        "  x1=x_train[sample,0]\n",
        "  x2=x_train[sample,1]\n",
        "  y=y_train[sample]\n",
        "  y_p_tr = (m1 * x1) + c + (m2 * x2)\n",
        "  y_pred_train.append(y_p_tr)\n",
        "y_pred_train = np.array(y_pred_train)"
      ],
      "execution_count": null,
      "outputs": []
    },
    {
      "cell_type": "markdown",
      "metadata": {
        "id": "soA61bX0rRF1"
      },
      "source": [
        "Model Prediction on Testing Data"
      ]
    },
    {
      "cell_type": "code",
      "metadata": {
        "id": "-PW9xVpvrT0g"
      },
      "source": [
        "y_pred_test = []\n",
        "for sample in range(x_test.shape[0]):\n",
        "  x1=x_test[sample,0]\n",
        "  x2=x_test[sample,1]\n",
        "  y=y_test[sample]\n",
        "  y_p_te = (m1 * x1) + c + (m2 * x2)\n",
        "  y_pred_test.append(y_p_te)\n",
        "y_pred_test = np.array(y_pred_test)"
      ],
      "execution_count": null,
      "outputs": []
    },
    {
      "cell_type": "markdown",
      "metadata": {
        "id": "PCbK1lWBrXN2"
      },
      "source": [
        "Error Metrics"
      ]
    },
    {
      "cell_type": "code",
      "metadata": {
        "colab": {
          "base_uri": "https://localhost:8080/"
        },
        "id": "PhHmGhq3rY7V",
        "outputId": "94dd7904-b4db-4662-e3e0-dcf0d4f68cb0"
      },
      "source": [
        "import math\n",
        "from sklearn.metrics import mean_squared_error \n",
        "from sklearn.metrics import mean_absolute_error\n",
        "\n",
        "\n",
        "#Training Accuracies\n",
        "rmse = math.sqrt(mean_squared_error(y_train, y_pred_train)) \n",
        "print('Root mean square error', rmse) \n",
        "mse = (mean_squared_error(y_train, y_pred_train)) \n",
        "print('Mean square error', mse) \n",
        "mae=mean_absolute_error(y_train, y_pred_train)\n",
        "print('Mean absolute error', mae)"
      ],
      "execution_count": null,
      "outputs": [
        {
          "output_type": "stream",
          "name": "stdout",
          "text": [
            "Root mean square error 0.1565446433718075\n",
            "Mean square error 0.0245062253684064\n",
            "Mean absolute error 0.12244885190076867\n"
          ]
        }
      ]
    },
    {
      "cell_type": "code",
      "metadata": {
        "colab": {
          "base_uri": "https://localhost:8080/"
        },
        "id": "FsgMoBoEreyp",
        "outputId": "db42ce0e-23fd-4dea-f343-aabf6d978321"
      },
      "source": [
        "#Testing Accuracies\n",
        "mse = math.sqrt(mean_squared_error(y_test, y_pred_test)) \n",
        "print('Root mean square error', mse) \n",
        "mse = (mean_squared_error(y_test, y_pred_test)) \n",
        "print('Mean square error', mse) \n",
        "mae=mean_absolute_error(y_test, y_pred_test)\n",
        "print('Mean absolute error', mae)"
      ],
      "execution_count": null,
      "outputs": [
        {
          "output_type": "stream",
          "name": "stdout",
          "text": [
            "Root mean square error 0.17101700134139275\n",
            "Mean square error 0.02924681474780193\n",
            "Mean absolute error 0.13384818808260526\n"
          ]
        }
      ]
    },
    {
      "cell_type": "markdown",
      "metadata": {
        "id": "kgYKML8qrhml"
      },
      "source": [
        "Deployment"
      ]
    },
    {
      "cell_type": "code",
      "metadata": {
        "colab": {
          "base_uri": "https://localhost:8080/"
        },
        "id": "aM9XOdjYrjFT",
        "outputId": "468cd6ac-cda7-4a14-80af-27133f7a0ab7"
      },
      "source": [
        "X1=input('enter X1 value')\n",
        "X2=input('enter X2 value')\n",
        "print('X1=',X1)\n",
        "print('X2=',X2)\n",
        "Y=m1*float(X1)+m2*float(X2)+c\n",
        "print('Y=',Y)"
      ],
      "execution_count": null,
      "outputs": [
        {
          "output_type": "stream",
          "name": "stdout",
          "text": [
            "enter X1 value2.1\n",
            "enter X2 value1.2\n",
            "X1= 2.1\n",
            "X2= 1.2\n",
            "Y= 0.5178377864657943\n"
          ]
        }
      ]
    }
  ]
}